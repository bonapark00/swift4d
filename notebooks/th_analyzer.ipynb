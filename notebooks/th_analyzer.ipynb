{
 "cells": [
  {
   "cell_type": "code",
   "execution_count": 1,
   "id": "342e5097",
   "metadata": {},
   "outputs": [
    {
     "name": "stdout",
     "output_type": "stream",
     "text": [
      "Key: xyz_bound_min, Type: <class 'torch.Tensor'>\n",
      "Key: xyz_bound_max, Type: <class 'torch.Tensor'>\n",
      "Key: enc_model.params, Type: <class 'torch.Tensor'>\n",
      "Key: xyz_deform.params, Type: <class 'torch.Tensor'>\n",
      "Key: scales_deform.params, Type: <class 'torch.Tensor'>\n",
      "Key: rotations_deform.params, Type: <class 'torch.Tensor'>\n",
      "Key: opacity_deform.params, Type: <class 'torch.Tensor'>\n",
      "Key: shs_deform.params, Type: <class 'torch.Tensor'>\n"
     ]
    }
   ],
   "source": [
    "import torch\n",
    "\n",
    "# 저장된 모델 로드\n",
    "checkpoint = torch.load('/working/4dgs/swift4d/output/dynerf/cook_spinach/point_cloud/iteration_13000/FDHash.pth', map_location='cpu')\n",
    "\n",
    "# 키 목록 확인 (예: state_dict, optimizer, epoch 등)\n",
    "for key in checkpoint:\n",
    "    print(f\"Key: {key}, Type: {type(checkpoint[key])}\")"
   ]
  },
  {
   "cell_type": "code",
   "execution_count": 8,
   "id": "96735701",
   "metadata": {},
   "outputs": [
    {
     "name": "stdout",
     "output_type": "stream",
     "text": [
      "xyz_bound_min             | shape: torch.Size([3]) | size: 0.01 KB\n",
      "xyz_bound_max             | shape: torch.Size([3]) | size: 0.01 KB\n",
      "enc_model.params          | shape: torch.Size([2121728]) | size: 8288.00 KB\n",
      "xyz_deform.params         | shape: torch.Size([34816]) | size: 136.00 KB\n",
      "scales_deform.params      | shape: torch.Size([34816]) | size: 136.00 KB\n",
      "rotations_deform.params   | shape: torch.Size([34816]) | size: 136.00 KB\n",
      "opacity_deform.params     | shape: torch.Size([34816]) | size: 136.00 KB\n",
      "shs_deform.params         | shape: torch.Size([38912]) | size: 152.00 KB\n",
      "\n",
      "Total model size: 8.77 MB\n"
     ]
    }
   ],
   "source": [
    "state_dict = checkpoint['state_dict'] if 'state_dict' in checkpoint else checkpoint\n",
    "\n",
    "total_bytes = 0\n",
    "for name, param in state_dict.items():\n",
    "    size = param.numel() * param.element_size()\n",
    "    total_bytes += size\n",
    "    print(f\"{name:25} | shape: {param.shape} | size: {size/1024:.2f} KB\")   \n",
    "print(f\"\\nTotal model size: {total_bytes / (1024 ** 2):.2f} MB\")"
   ]
  }
 ],
 "metadata": {
  "kernelspec": {
   "display_name": "base",
   "language": "python",
   "name": "python3"
  },
  "language_info": {
   "codemirror_mode": {
    "name": "ipython",
    "version": 3
   },
   "file_extension": ".py",
   "mimetype": "text/x-python",
   "name": "python",
   "nbconvert_exporter": "python",
   "pygments_lexer": "ipython3",
   "version": "3.10.13"
  }
 },
 "nbformat": 4,
 "nbformat_minor": 5
}
